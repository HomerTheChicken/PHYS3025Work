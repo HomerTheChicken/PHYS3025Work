{
  "nbformat": 4,
  "nbformat_minor": 0,
  "metadata": {
    "colab": {
      "provenance": [],
      "include_colab_link": true
    },
    "kernelspec": {
      "name": "python3",
      "display_name": "Python 3"
    },
    "language_info": {
      "name": "python"
    }
  },
  "cells": [
    {
      "cell_type": "markdown",
      "metadata": {
        "id": "view-in-github",
        "colab_type": "text"
      },
      "source": [
        "<a href=\"https://colab.research.google.com/github/HomerTheChicken/PHYS3025Work/blob/main/PHYS_3025_Activity_1.ipynb\" target=\"_parent\"><img src=\"https://colab.research.google.com/assets/colab-badge.svg\" alt=\"Open In Colab\"/></a>"
      ]
    },
    {
      "cell_type": "markdown",
      "source": [
        "This is adapted from Python tutorials by P. L. Lim, Adrian Price-Whelan, Kelle Cruz, and Stephanie T. Douglas with the AstroPy Foundation. I've modified them a bit to match our needs.\n",
        "For the original cone search tutorial you can visit: https://learn.astropy.org/tutorials/conesearch.html . I've updated it to avoid errors and didn't use the last part but you can look there to see how to search more than one catalog at once and time the searches as well.\n",
        "For the rest of the tutorial I based it on https://learn.astropy.org/tutorials/plot-catalog.html but the text files aren't available so we're using search methods to get data."
      ],
      "metadata": {
        "id": "WWjAHKXZscCa"
      }
    },
    {
      "cell_type": "code",
      "source": [
        "# Python standard library\n",
        "import time\n",
        "import warnings\n",
        "\n",
        "# Third-party software\n",
        "import numpy as np\n",
        "\n",
        "# Astropy\n",
        "from astropy import coordinates as coord\n",
        "from astropy import units as u\n",
        "from astropy.table import Table\n",
        "\n",
        "# Astroquery. This tutorial requires 0.3.5 or greater.\n",
        "!pip install astroquery #note we need to install it manually using !pip install\n",
        "import astroquery\n",
        "from astroquery.simbad import Simbad\n",
        "from astroquery.vo_conesearch import conf, conesearch, vos_catalog\n",
        "\n",
        "# Set up matplotlib\n",
        "import matplotlib.pyplot as plt\n",
        "%matplotlib inline"
      ],
      "metadata": {
        "id": "R1rbGs9tsbU4",
        "outputId": "6e67eb2b-5183-48f8-b4ba-8840fb772a10",
        "colab": {
          "base_uri": "https://localhost:8080/"
        }
      },
      "execution_count": null,
      "outputs": [
        {
          "output_type": "stream",
          "name": "stdout",
          "text": [
            "Collecting astroquery\n",
            "  Downloading astroquery-0.4.6-py3-none-any.whl (4.5 MB)\n",
            "\u001b[2K     \u001b[90m━━━━━━━━━━━━━━━━━━━━━━━━━━━━━━━━━━━━━━━━\u001b[0m \u001b[32m4.5/4.5 MB\u001b[0m \u001b[31m11.7 MB/s\u001b[0m eta \u001b[36m0:00:00\u001b[0m\n",
            "\u001b[?25hRequirement already satisfied: numpy>=1.16 in /usr/local/lib/python3.10/dist-packages (from astroquery) (1.23.5)\n",
            "Requirement already satisfied: astropy>=4.0 in /usr/local/lib/python3.10/dist-packages (from astroquery) (5.3.2)\n",
            "Requirement already satisfied: requests>=2.4.3 in /usr/local/lib/python3.10/dist-packages (from astroquery) (2.31.0)\n",
            "Requirement already satisfied: beautifulsoup4>=4.3.2 in /usr/local/lib/python3.10/dist-packages (from astroquery) (4.11.2)\n",
            "Requirement already satisfied: html5lib>=0.999 in /usr/local/lib/python3.10/dist-packages (from astroquery) (1.1)\n",
            "Requirement already satisfied: keyring>=4.0 in /usr/lib/python3/dist-packages (from astroquery) (23.5.0)\n",
            "Collecting pyvo>=1.1 (from astroquery)\n",
            "  Downloading pyvo-1.4.2-py3-none-any.whl (888 kB)\n",
            "\u001b[2K     \u001b[90m━━━━━━━━━━━━━━━━━━━━━━━━━━━━━━━━━━━━━━\u001b[0m \u001b[32m888.9/888.9 kB\u001b[0m \u001b[31m20.9 MB/s\u001b[0m eta \u001b[36m0:00:00\u001b[0m\n",
            "\u001b[?25hRequirement already satisfied: pyerfa>=2.0 in /usr/local/lib/python3.10/dist-packages (from astropy>=4.0->astroquery) (2.0.0.3)\n",
            "Requirement already satisfied: PyYAML>=3.13 in /usr/local/lib/python3.10/dist-packages (from astropy>=4.0->astroquery) (6.0.1)\n",
            "Requirement already satisfied: packaging>=19.0 in /usr/local/lib/python3.10/dist-packages (from astropy>=4.0->astroquery) (23.1)\n",
            "Requirement already satisfied: soupsieve>1.2 in /usr/local/lib/python3.10/dist-packages (from beautifulsoup4>=4.3.2->astroquery) (2.4.1)\n",
            "Requirement already satisfied: six>=1.9 in /usr/local/lib/python3.10/dist-packages (from html5lib>=0.999->astroquery) (1.16.0)\n",
            "Requirement already satisfied: webencodings in /usr/local/lib/python3.10/dist-packages (from html5lib>=0.999->astroquery) (0.5.1)\n",
            "Requirement already satisfied: charset-normalizer<4,>=2 in /usr/local/lib/python3.10/dist-packages (from requests>=2.4.3->astroquery) (3.2.0)\n",
            "Requirement already satisfied: idna<4,>=2.5 in /usr/local/lib/python3.10/dist-packages (from requests>=2.4.3->astroquery) (3.4)\n",
            "Requirement already satisfied: urllib3<3,>=1.21.1 in /usr/local/lib/python3.10/dist-packages (from requests>=2.4.3->astroquery) (2.0.4)\n",
            "Requirement already satisfied: certifi>=2017.4.17 in /usr/local/lib/python3.10/dist-packages (from requests>=2.4.3->astroquery) (2023.7.22)\n",
            "Installing collected packages: pyvo, astroquery\n",
            "Successfully installed astroquery-0.4.6 pyvo-1.4.2\n"
          ]
        }
      ]
    },
    {
      "cell_type": "markdown",
      "source": [
        "We'll be using ConeSearch first. To start, it might be useful to list the available Cone Search catalogs first. By default, catalogs that pass nightly validation are included. Validation is hosted by Space Telescope Science Institute (STScI)."
      ],
      "metadata": {
        "id": "bhki3WUYtQuu"
      }
    },
    {
      "cell_type": "code",
      "source": [
        "conesearch.list_catalogs()"
      ],
      "metadata": {
        "id": "uSo-eHOgsbgp",
        "outputId": "77ecfb13-7e37-4087-aea3-0e6a76affc3f",
        "colab": {
          "base_uri": "https://localhost:8080/"
        }
      },
      "execution_count": null,
      "outputs": [
        {
          "output_type": "execute_result",
          "data": {
            "text/plain": [
              "['2MASS All-Sky Catalog of Point Sources 1',\n",
              " 'Gaia DR2 5',\n",
              " 'Guide Star Catalog 2.3 Cone Search 1',\n",
              " 'SDSS DR7 - Sloan Digital Sky Survey Data Release 7 1',\n",
              " 'SDSS DR7 - Sloan Digital Sky Survey Data Release 7 2',\n",
              " 'SDSS DR7 - Sloan Digital Sky Survey Data Release 7 3',\n",
              " 'SDSS DR7 - Sloan Digital Sky Survey Data Release 7 4',\n",
              " 'The HST Guide Star Catalog, Version 1.1 1',\n",
              " 'The HST Guide Star Catalog, Version 1.2 1',\n",
              " 'The HST Guide Star Catalog, Version GSC-ACT 1',\n",
              " 'The PMM USNO-A1.0 Catalogue 1',\n",
              " 'The USNO-A2.0 Catalogue 1',\n",
              " 'The USNO-B1.0 Catalog 2',\n",
              " 'Two Micron All Sky Survey (2MASS) 1',\n",
              " 'Two Micron All Sky Survey (2MASS) 2']"
            ]
          },
          "metadata": {},
          "execution_count": 2
        }
      ]
    },
    {
      "cell_type": "markdown",
      "source": [
        "Next, pick an astronomical object of interest. For example, M31."
      ],
      "metadata": {
        "id": "216GqkFVte8i"
      }
    },
    {
      "cell_type": "code",
      "source": [
        "c = coord.SkyCoord.from_name('M31', frame='icrs')\n",
        "print(c)"
      ],
      "metadata": {
        "id": "tG3gwZDztWS5",
        "outputId": "537f5762-b3bd-43c9-ecf0-a8f7c6e907e4",
        "colab": {
          "base_uri": "https://localhost:8080/"
        }
      },
      "execution_count": null,
      "outputs": [
        {
          "output_type": "stream",
          "name": "stdout",
          "text": [
            "<SkyCoord (ICRS): (ra, dec) in deg\n",
            "    (10.6847083, 41.26875)>\n"
          ]
        }
      ]
    },
    {
      "cell_type": "markdown",
      "source": [
        "\n",
        "\n",
        "By default, a basic Cone Search goes through the list of catalogs and stops at the first one that returns non-empty VO table. Let's search for objects within 0.1 degree around M31. You will see a lot of warnings that were generated by VO table parser but ignored by Cone Search service validator. VO compliance enforced by Cone Search providers is beyond the control of astroquery.vo_conesearch package.\n",
        "\n",
        "The result is an[ Astropy](https://http://astropy.readthedocs.io/en/stable/table/index.html) table.\n"
      ],
      "metadata": {
        "id": "sCJjZIcTtpkE"
      }
    },
    {
      "cell_type": "code",
      "source": [
        "result = conesearch.conesearch(c, 0.1 * u.degree)"
      ],
      "metadata": {
        "id": "MBf-fPBAtkVm",
        "outputId": "29ee522d-3c7d-471c-d552-0f9d87be7eed",
        "colab": {
          "base_uri": "https://localhost:8080/"
        }
      },
      "execution_count": null,
      "outputs": [
        {
          "output_type": "stream",
          "name": "stdout",
          "text": [
            "Trying http://vizier.unistra.fr/viz-bin/conesearch/II/246/out?\n"
          ]
        },
        {
          "output_type": "stream",
          "name": "stderr",
          "text": [
            "WARNING: W06: http://vizier.unistra.fr/viz-bin/conesearch/II/246/out?RA=10.6847083&DEC=41.26875&SR=0.1&VERB=1:46:4: W06: Invalid UCD 'POS_EQ_RA_MAIN': Unknown word 'POS_EQ_RA_MAIN' [astropy.io.votable.tree]\n",
            "WARNING:astroquery:W06: http://vizier.unistra.fr/viz-bin/conesearch/II/246/out?RA=10.6847083&DEC=41.26875&SR=0.1&VERB=1:46:4: W06: Invalid UCD 'POS_EQ_RA_MAIN': Unknown word 'POS_EQ_RA_MAIN'\n",
            "WARNING: W06: http://vizier.unistra.fr/viz-bin/conesearch/II/246/out?RA=10.6847083&DEC=41.26875&SR=0.1&VERB=1:49:4: W06: Invalid UCD 'POS_EQ_DEC_MAIN': Unknown word 'POS_EQ_DEC_MAIN' [astropy.io.votable.tree]\n",
            "WARNING:astroquery:W06: http://vizier.unistra.fr/viz-bin/conesearch/II/246/out?RA=10.6847083&DEC=41.26875&SR=0.1&VERB=1:49:4: W06: Invalid UCD 'POS_EQ_DEC_MAIN': Unknown word 'POS_EQ_DEC_MAIN'\n",
            "WARNING: W03: http://vizier.unistra.fr/viz-bin/conesearch/II/246/out?RA=10.6847083&DEC=41.26875&SR=0.1&VERB=1:61:4: W03: Implicitly generating an ID from a name '2MASS' -> '_2MASS' [astropy.io.votable.xmlutil]\n",
            "WARNING:astroquery:W03: http://vizier.unistra.fr/viz-bin/conesearch/II/246/out?RA=10.6847083&DEC=41.26875&SR=0.1&VERB=1:61:4: W03: Implicitly generating an ID from a name '2MASS' -> '_2MASS'\n",
            "WARNING: W06: http://vizier.unistra.fr/viz-bin/conesearch/II/246/out?RA=10.6847083&DEC=41.26875&SR=0.1&VERB=1:61:4: W06: Invalid UCD 'ID_MAIN': Unknown word 'ID_MAIN' [astropy.io.votable.tree]\n",
            "WARNING:astroquery:W06: http://vizier.unistra.fr/viz-bin/conesearch/II/246/out?RA=10.6847083&DEC=41.26875&SR=0.1&VERB=1:61:4: W06: Invalid UCD 'ID_MAIN': Unknown word 'ID_MAIN'\n",
            "WARNING: W06: http://vizier.unistra.fr/viz-bin/conesearch/II/246/out?RA=10.6847083&DEC=41.26875&SR=0.1&VERB=1:152:4: W06: Invalid UCD 'obs.field': Secondary word 'obs.field' is not valid as a primary word [astropy.io.votable.tree]\n",
            "WARNING:astroquery:W06: http://vizier.unistra.fr/viz-bin/conesearch/II/246/out?RA=10.6847083&DEC=41.26875&SR=0.1&VERB=1:152:4: W06: Invalid UCD 'obs.field': Secondary word 'obs.field' is not valid as a primary word\n",
            "WARNING: W06: http://vizier.unistra.fr/viz-bin/conesearch/II/246/out?RA=10.6847083&DEC=41.26875&SR=0.1&VERB=1:161:4: W06: Invalid UCD 'pos.cartesian;instr.det': Secondary word 'pos.cartesian' is not valid as a primary word [astropy.io.votable.tree]\n",
            "WARNING:astroquery:W06: http://vizier.unistra.fr/viz-bin/conesearch/II/246/out?RA=10.6847083&DEC=41.26875&SR=0.1&VERB=1:161:4: W06: Invalid UCD 'pos.cartesian;instr.det': Secondary word 'pos.cartesian' is not valid as a primary word\n",
            "WARNING: W06: http://vizier.unistra.fr/viz-bin/conesearch/II/246/out?RA=10.6847083&DEC=41.26875&SR=0.1&VERB=1:209:4: W06: Invalid UCD 'pos.cartesian;instr.det': Secondary word 'pos.cartesian' is not valid as a primary word [astropy.io.votable.tree]\n",
            "WARNING:astroquery:W06: http://vizier.unistra.fr/viz-bin/conesearch/II/246/out?RA=10.6847083&DEC=41.26875&SR=0.1&VERB=1:209:4: W06: Invalid UCD 'pos.cartesian;instr.det': Secondary word 'pos.cartesian' is not valid as a primary word\n"
          ]
        }
      ]
    },
    {
      "cell_type": "code",
      "source": [
        "print('First non-empty table returned by', result.url)\n",
        "print('Number of rows is', len(result))"
      ],
      "metadata": {
        "id": "FXAw5KaWty1v",
        "outputId": "8a323620-2816-4c98-a6ea-9710b9885a0a",
        "colab": {
          "base_uri": "https://localhost:8080/"
        }
      },
      "execution_count": null,
      "outputs": [
        {
          "output_type": "stream",
          "name": "stdout",
          "text": [
            "First non-empty table returned by http://vizier.unistra.fr/viz-bin/conesearch/II/246/out?\n",
            "Number of rows is 2008\n"
          ]
        }
      ]
    },
    {
      "cell_type": "code",
      "source": [
        "print(result)"
      ],
      "metadata": {
        "id": "p0EiuVMot6kx",
        "outputId": "b82b3e4e-4e0f-4245-937c-e6cfd1c1f682",
        "colab": {
          "base_uri": "https://localhost:8080/"
        }
      },
      "execution_count": null,
      "outputs": [
        {
          "output_type": "stream",
          "name": "stdout",
          "text": [
            "   _r     RAJ2000    DEJ2000   errMaj errMin ... scanKey coaddKey coadd Opt\n",
            "            deg        deg     arcsec arcsec ...                           \n",
            "-------- ---------- ---------- ------ ------ ... ------- -------- ----- ---\n",
            "0.099393  10.612369  41.185570   0.11   0.11 ...   25123   577810    44 Opt\n",
            "0.096137  10.618154  41.186672   0.32   0.29 ...   25123   577810    44 Opt\n",
            "0.097668  10.675847  41.171310   0.23   0.22 ...   69157  1590592    44 Opt\n",
            "0.093538  10.669444  41.175919   0.09   0.08 ...   69157  1590592    44 Opt\n",
            "0.094207  10.673752  41.174904   0.20   0.19 ...   69157  1590592    44 Opt\n",
            "0.099300  10.670671  41.170013   0.26   0.24 ...   69157  1590592    44 Opt\n",
            "0.084584  10.670450  41.184849   0.18   0.16 ...   69157  1590592    44 Opt\n",
            "0.098466  10.672416  41.170719   0.20   0.20 ...   69157  1590592    44 Opt\n",
            "0.082180  10.686087  41.186577   0.33   0.29 ...   69157  1590592    44 Opt\n",
            "0.085435  10.684455  41.183315   0.24   0.23 ...   69157  1590592    44 Opt\n",
            "     ...        ...        ...    ...    ... ...     ...      ...   ... ...\n",
            "0.097664  10.753706  41.351528   0.23   0.23 ...   69157  1590591    33 Opt\n",
            "0.073150  10.751946  41.321655   0.23   0.20 ...   69157  1590591    33 Opt\n",
            "0.086592  10.759137  41.334869   0.08   0.07 ...   69157  1590591    33 Opt\n",
            "0.095801  10.762873  41.344448   0.24   0.22 ...   69157  1590591    33 Opt\n",
            "0.074294  10.754734  41.321205   0.08   0.07 ...   69157  1590591    33 Opt\n",
            "0.091049  10.750001  41.345459   0.09   0.08 ...   69157  1590591    33 Opt\n",
            "0.078333  10.759188  41.323566   0.24   0.23 ...   69157  1590591    33 Opt\n",
            "0.085469  10.761429  41.331860   0.22   0.20 ...   69157  1590591    33 Opt\n",
            "0.087415  10.761952  41.334126   0.28   0.26 ...   69157  1590591    33 Opt\n",
            "0.091332  10.761388  41.339626   0.20   0.19 ...   69157  1590591    33 Opt\n",
            "Length = 2008 rows\n"
          ]
        }
      ]
    },
    {
      "cell_type": "markdown",
      "source": [
        "This table can be manipulated like any other Astropy table; e.g., re-write the table into LaTeX format."
      ],
      "metadata": {
        "id": "S5R2HpbOuHgL"
      }
    },
    {
      "cell_type": "code",
      "source": [
        "result.write('my_result.tex', format='ascii.latex', overwrite=True)"
      ],
      "metadata": {
        "id": "XyyHyKIAuB4L"
      },
      "execution_count": null,
      "outputs": []
    },
    {
      "cell_type": "markdown",
      "source": [
        "\n",
        "\n",
        "You can now use your favorite text editor to open the my_result.tex file, but here, we are going to read it back into another Astropy table.\n",
        "\n",
        "Note that the extra data_start=4 option is necessary due to the non-roundtripping nature of LaTeX reader/writer (see astropy issue [5205](https://github.com/astropy/astropy/issues/5205)).\n"
      ],
      "metadata": {
        "id": "P-nWqyHluRHv"
      }
    },
    {
      "cell_type": "code",
      "source": [
        "result_tex = Table.read('my_result.tex', format='ascii.latex', data_start=4)\n",
        "print(result_tex)\n"
      ],
      "metadata": {
        "id": "az3igcZQuLb6",
        "outputId": "3944b36f-2cbd-41d2-a7d0-5a16005c45f8",
        "colab": {
          "base_uri": "https://localhost:8080/"
        }
      },
      "execution_count": null,
      "outputs": [
        {
          "output_type": "stream",
          "name": "stdout",
          "text": [
            "   _r     RAJ2000   DEJ2000  errMaj errMin ... extKey scanKey coaddKey coadd Opt\n",
            "-------- --------- --------- ------ ------ ... ------ ------- -------- ----- ---\n",
            "0.099393 10.612369  41.18557   0.11   0.11 ...     --   25123   577810    44 Opt\n",
            "0.096137 10.618154 41.186672   0.32   0.29 ...     --   25123   577810    44 Opt\n",
            "0.097668 10.675847  41.17131   0.23   0.22 ...     --   69157  1590592    44 Opt\n",
            "0.093538 10.669444 41.175919   0.09   0.08 ...     --   69157  1590592    44 Opt\n",
            "0.094207 10.673752 41.174904    0.2   0.19 ...     --   69157  1590592    44 Opt\n",
            "  0.0993 10.670671 41.170013   0.26   0.24 ...     --   69157  1590592    44 Opt\n",
            "0.084584  10.67045 41.184849   0.18   0.16 ...     --   69157  1590592    44 Opt\n",
            "0.098466 10.672416 41.170719    0.2    0.2 ...     --   69157  1590592    44 Opt\n",
            " 0.08218 10.686087 41.186577   0.33   0.29 ...     --   69157  1590592    44 Opt\n",
            "0.085435 10.684455 41.183315   0.24   0.23 ...     --   69157  1590592    44 Opt\n",
            "     ...       ...       ...    ...    ... ...    ...     ...      ...   ... ...\n",
            "0.098159 10.764473   41.3465   0.24   0.21 ...     --   69157  1590591    33 Opt\n",
            "0.097664 10.753706 41.351528   0.23   0.23 ...     --   69157  1590591    33 Opt\n",
            " 0.07315 10.751946 41.321655   0.23    0.2 ...     --   69157  1590591    33 Opt\n",
            "0.086592 10.759137 41.334869   0.08   0.07 ...     --   69157  1590591    33 Opt\n",
            "0.095801 10.762873 41.344448   0.24   0.22 ...     --   69157  1590591    33 Opt\n",
            "0.074294 10.754734 41.321205   0.08   0.07 ...     --   69157  1590591    33 Opt\n",
            "0.091049 10.750001 41.345459   0.09   0.08 ...     --   69157  1590591    33 Opt\n",
            "0.078333 10.759188 41.323566   0.24   0.23 ...     --   69157  1590591    33 Opt\n",
            "0.085469 10.761429  41.33186   0.22    0.2 ...     --   69157  1590591    33 Opt\n",
            "0.087415 10.761952 41.334126   0.28   0.26 ...     --   69157  1590591    33 Opt\n",
            "0.091332 10.761388 41.339626    0.2   0.19 ...     --   69157  1590591    33 Opt\n",
            "Length = 2008 rows\n"
          ]
        }
      ]
    },
    {
      "cell_type": "markdown",
      "source": [
        "Cone Search results can also be used in conjuction with other types of queries. For example, you can query SIMBAD for the first entry in your result above.\n"
      ],
      "metadata": {
        "id": "dRtTcMFiuenS"
      }
    },
    {
      "cell_type": "code",
      "source": [
        "# Due to the unpredictability of external services,\n",
        "# The first successful query result (above) might differ\n",
        "# from run to run.\n",
        "#\n",
        "# CHANGE THESE VALUES to the appropriate RA and DEC\n",
        "# column names you see above, if necessary.\n",
        "# These are for http://gsss.stsci.edu/webservices/vo/ConeSearch.aspx?CAT=GSC23&\n",
        "ra_colname = 'RAJ2000'\n",
        "dec_colname = 'DEJ2000'\n",
        "# Don't run this cell if column names above are invalid.\n",
        "if ra_colname in result.colnames and dec_colname in result.colnames:\n",
        "    row = result[0]\n",
        "    simbad_obj = coord.SkyCoord(ra=row[ra_colname]*u.deg, dec=row[dec_colname]*u.deg)\n",
        "    print('Searching SIMBAD for\\n{}\\n'.format(simbad_obj))\n",
        "    simbad_result = Simbad.query_region(simbad_obj, radius=5*u.arcsec)\n",
        "    print(simbad_result)\n",
        "else:\n",
        "    print('{} or {} not in search results. Choose from: {}'.format(\n",
        "        ra_colname, dec_colname, ' '.join(result.colnames)))"
      ],
      "metadata": {
        "id": "j5RCJ0uxuQLV",
        "outputId": "2ba997d8-54dc-452d-86a9-16a3e0800939",
        "colab": {
          "base_uri": "https://localhost:8080/"
        }
      },
      "execution_count": null,
      "outputs": [
        {
          "output_type": "stream",
          "name": "stdout",
          "text": [
            "Searching SIMBAD for\n",
            "<SkyCoord (ICRS): (ra, dec) in deg\n",
            "    (10.612369, 41.18557)>\n",
            "\n",
            " MAIN_ID        RA         DEC     ...     COO_BIBCODE     SCRIPT_NUMBER_ID\n",
            "             \"h:m:s\"     \"d:m:s\"   ...                                     \n",
            "---------- ----------- ----------- ... ------------------- ----------------\n",
            "Rosino  77 00 42 26.79 +41 11 12.0 ... 2007A&A...465..375P                1\n"
          ]
        }
      ]
    },
    {
      "cell_type": "markdown",
      "source": [
        "Now back to Cone Search... You can extract metadata of this Cone Search catalog."
      ],
      "metadata": {
        "id": "z-lzg0Rbus8N"
      }
    },
    {
      "cell_type": "code",
      "source": [
        "my_db = vos_catalog.get_remote_catalog_db(conf.conesearch_dbname)\n",
        "my_cat = my_db.get_catalog_by_url(result.url)\n",
        "print(my_cat.dumps())"
      ],
      "metadata": {
        "id": "rkL8N4c2ulQG",
        "outputId": "46b87b75-585d-4ba2-aeaa-7557f50f6700",
        "colab": {
          "base_uri": "https://localhost:8080/"
        }
      },
      "execution_count": null,
      "outputs": [
        {
          "output_type": "stream",
          "name": "stdout",
          "text": [
            "{\n",
            "    \"authenticated_only\": 0,\n",
            "    \"cap_description\": \"Cone search capability for table II/246/out (2MASS Point Source Catalogue, output (on a total of 470,992,970 sources))\",\n",
            "    \"cap_index\": 4,\n",
            "    \"cap_type\": \"conesearch\",\n",
            "    \"content_level\": \"research\",\n",
            "    \"content_type\": \"catalog\",\n",
            "    \"created\": \"1/10/2008 11:19:42 PM\",\n",
            "    \"creator_seq\": \"\",\n",
            "    \"duplicatesIgnored\": 4,\n",
            "    \"intf_index\": 1,\n",
            "    \"intf_role\": \"std\",\n",
            "    \"intf_type\": \"vs:paramhttp\",\n",
            "    \"ivoid\": \"ivo://cds.vizier/ii/246\",\n",
            "    \"mirror_url\": \"https://vizier.iucaa.in/viz-bin/conesearch/II/246/out?#http://vizieridia.saao.ac.za/viz-bin/conesearch/II/246/out?\",\n",
            "    \"query_type\": \"\",\n",
            "    \"reference_url\": \"http://cdsarc.unistra.fr/cgi-bin/cat/II/246\",\n",
            "    \"region_of_regard\": NaN,\n",
            "    \"res_description\": \"The Two Micron All Sky Survey (2MASS) project is designed to close the gap between our current technical capability and our knowledge of the near-infrared sky. In addition to providing a context for the interpretation of results obtained at infrared and other wavelengths, 2MASS will provide direct answers to immediate questions on the large-scale structure of the Milky Way and the Local Universe. To achieve these goals, 2MASS is uniformly scanning the entire sky in three near-infrared bands to detect and characterize point sources brighter than about 1 mJy in each band, with signal-to-noise ratio (SNR) greater than 10, using a pixel size of 2.0\\\". This will achieve an 80,000-fold improvement in sensitivity relative to earlier surveys. 2MASS uses two new, highly-automated 1.3-m telescopes, one at Mt. Hopkins, AZ, and one at CTIO, Chile. Each telescope is equipped with a three-channel camera, each channel consisting of a 256x256 array of HgCdTe detectors, capable of observing the sky simultaneously at J (1.25 {mu}m), H (1.65 {mu}m), and Ks (2.17 {mu}m), to a 3{sigma} limiting sensitivity of 17.1, 16.4 and 15.3mag in the three bands. The 2MASS arrays image the sky while the telescopes scan smoothly in declination at a rate of ~1' per second. The 2MASS data \\\"tiles\\\" are 6 deg. long in the declination direction and one camera frame (8.5') wide. The camera field-of-view shifts by ~1/6 of a frame in declination from frame-to-frame. The camera images each point on the sky six times for a total integration time of 7.8 s, with sub-pixel \\\"dithering\\\", which improves the ultimate spatial resolution of the final Atlas Images. The University of Massachusetts (UMass) is responsible for the overall management of the project, and for developing the infrared cameras and on-site computing systems at both facilities. The Infrared Processing and Analysis Center (IPAC) is responsible for all data processing through the Production Pipeline, and construction and distribution of the data products. The 2MASS project involves the participation of members of the Science Team from several different institutions. The 2MASS project is funding by the National Aeronautics and Space Administration (NASA) and the National Science Foundation (NSF).\",\n",
            "    \"res_subject\": \"Infrared astronomy\",\n",
            "    \"res_type\": \"vs:catalogservice\",\n",
            "    \"res_version\": \"\",\n",
            "    \"result_type\": \"\",\n",
            "    \"rights\": \"public\",\n",
            "    \"rights_uri\": \"\",\n",
            "    \"short_name\": \"II/246\",\n",
            "    \"source_format\": \"bibcode\",\n",
            "    \"source_value\": \"2003yCat.2246....0C\",\n",
            "    \"standard_id\": \"ivo://ivoa.net/std/conesearch\",\n",
            "    \"std_version\": \"\",\n",
            "    \"title\": \"2MASS All-Sky Catalog of Point Sources\",\n",
            "    \"updated\": \"10/21/2021 12:00:00 AM\",\n",
            "    \"url\": \"http://vizier.unistra.fr/viz-bin/conesearch/II/246/out?\",\n",
            "    \"url_use\": \"base\",\n",
            "    \"validate_expected\": \"good\",\n",
            "    \"validate_network_error\": null,\n",
            "    \"validate_nexceptions\": 0,\n",
            "    \"validate_nwarnings\": 14,\n",
            "    \"validate_out_db_name\": \"good\",\n",
            "    \"validate_version\": \"1.4\",\n",
            "    \"validate_warning_types\": [\n",
            "        \"W06\",\n",
            "        \"W03\"\n",
            "    ],\n",
            "    \"validate_warnings\": [\n",
            "        \"/var/www/astroconda.org/html/aux/vo_databases/daily_20230817/results/78/a8/966dc94b2099b663d5f839c4d89c/vo.xml:46:4: W06: Invalid UCD 'POS_EQ_RA_MAIN': Unknown word 'POS_EQ_RA_MAIN'\",\n",
            "        \"/var/www/astroconda.org/html/aux/vo_databases/daily_20230817/results/78/a8/966dc94b2099b663d5f839c4d89c/vo.xml:49:4: W06: Invalid UCD 'POS_EQ_DEC_MAIN': Unknown word 'POS_EQ_DEC_MAIN'\",\n",
            "        \"/var/www/astroconda.org/html/aux/vo_databases/daily_20230817/results/78/a8/966dc94b2099b663d5f839c4d89c/vo.xml:61:4: W03: Implicitly generating an ID from a name '2MASS' -> '_2MASS'\",\n",
            "        \"/var/www/astroconda.org/html/aux/vo_databases/daily_20230817/results/78/a8/966dc94b2099b663d5f839c4d89c/vo.xml:61:4: W06: Invalid UCD 'ID_MAIN': Unknown word 'ID_MAIN'\",\n",
            "        \"/var/www/astroconda.org/html/aux/vo_databases/daily_20230817/results/78/a8/966dc94b2099b663d5f839c4d89c/vo.xml:152:4: W06: Invalid UCD 'obs.field': Secondary word 'obs.field' is not valid as a primary word\",\n",
            "        \"/var/www/astroconda.org/html/aux/vo_databases/daily_20230817/results/78/a8/966dc94b2099b663d5f839c4d89c/vo.xml:161:4: W06: Invalid UCD 'pos.cartesian;instr.det': Secondary word 'pos.cartesian' is not valid as a primary word\",\n",
            "        \"/var/www/astroconda.org/html/aux/vo_databases/daily_20230817/results/78/a8/966dc94b2099b663d5f839c4d89c/vo.xml:209:4: W06: Invalid UCD 'pos.cartesian;instr.det': Secondary word 'pos.cartesian' is not valid as a primary word\",\n",
            "        \"/var/www/astroconda.org/html/aux/vo_databases/daily_20230817/results/78/a8/966dc94b2099b663d5f839c4d89c/vo.xml:46:4: W06: Invalid UCD 'POS_EQ_RA_MAIN': Unknown word 'POS_EQ_RA_MAIN'\",\n",
            "        \"/var/www/astroconda.org/html/aux/vo_databases/daily_20230817/results/78/a8/966dc94b2099b663d5f839c4d89c/vo.xml:49:4: W06: Invalid UCD 'POS_EQ_DEC_MAIN': Unknown word 'POS_EQ_DEC_MAIN'\",\n",
            "        \"/var/www/astroconda.org/html/aux/vo_databases/daily_20230817/results/78/a8/966dc94b2099b663d5f839c4d89c/vo.xml:61:4: W03: Implicitly generating an ID from a name '2MASS' -> '_2MASS'\",\n",
            "        \"/var/www/astroconda.org/html/aux/vo_databases/daily_20230817/results/78/a8/966dc94b2099b663d5f839c4d89c/vo.xml:61:4: W06: Invalid UCD 'ID_MAIN': Unknown word 'ID_MAIN'\",\n",
            "        \"/var/www/astroconda.org/html/aux/vo_databases/daily_20230817/results/78/a8/966dc94b2099b663d5f839c4d89c/vo.xml:152:4: W06: Invalid UCD 'obs.field': Secondary word 'obs.field' is not valid as a primary word\",\n",
            "        \"/var/www/astroconda.org/html/aux/vo_databases/daily_20230817/results/78/a8/966dc94b2099b663d5f839c4d89c/vo.xml:161:4: W06: Invalid UCD 'pos.cartesian;instr.det': Secondary word 'pos.cartesian' is not valid as a primary word\",\n",
            "        \"/var/www/astroconda.org/html/aux/vo_databases/daily_20230817/results/78/a8/966dc94b2099b663d5f839c4d89c/vo.xml:209:4: W06: Invalid UCD 'pos.cartesian;instr.det': Secondary word 'pos.cartesian' is not valid as a primary word\"\n",
            "    ],\n",
            "    \"validate_xmllint\": false,\n",
            "    \"validate_xmllint_content\": \"/var/www/astroconda.org/html/aux/vo_databases/daily_20230817/results/78/a8/966dc94b2099b663d5f839c4d89c/vo.xml:4: element VOTABLE: Schemas validity error : Element '{http://www.ivoa.net/xml/VOTable/v1.3}VOTABLE': No matching global declaration available for the validation root.\\n/var/www/astroconda.org/html/aux/vo_databases/daily_20230817/results/78/a8/966dc94b2099b663d5f839c4d89c/vo.xml fails to validate\\n\",\n",
            "    \"waveband\": \"infrared\",\n",
            "    \"wsdl_url\": \"\"\n",
            "}\n"
          ]
        }
      ]
    },
    {
      "cell_type": "markdown",
      "source": [
        "If you have a favorite catalog in mind, you can also perform Cone Search only on that catalog. A list of available catalogs can be obtained by calling conesearch.list_catalogs(), as mentioned above. For example 'The USNO-A2.0 Catalogue 1'"
      ],
      "metadata": {
        "id": "BVYEr57Suy99"
      }
    },
    {
      "cell_type": "code",
      "source": [
        "try:\n",
        "    result = conesearch.conesearch(\n",
        "        c, 0.1 * u.degree, catalog_db='The USNO-A2.0 Catalogue 1')\n",
        "except Exception as e:\n",
        "    # We provide a cached version of the result table in case the query fails\n",
        "    # due to an intermittent server-side issue, or if you do not have an\n",
        "    # internet connection\n",
        "    result = Table.read('usno-A2-result.fits')\n",
        "\n",
        "print('Number of rows is', len(result))"
      ],
      "metadata": {
        "id": "34r-aGcuvnGH",
        "outputId": "f305e4fc-b8b1-46eb-8e67-b99af142bbd5",
        "colab": {
          "base_uri": "https://localhost:8080/"
        }
      },
      "execution_count": null,
      "outputs": [
        {
          "output_type": "stream",
          "name": "stdout",
          "text": [
            "Trying http://vizier.unistra.fr/viz-bin/conesearch/I/252/out?\n",
            "Number of rows is 3\n"
          ]
        }
      ]
    },
    {
      "cell_type": "markdown",
      "source": [],
      "metadata": {
        "id": "mzG6eqcNvLdF"
      }
    },
    {
      "cell_type": "markdown",
      "source": [],
      "metadata": {
        "id": "9vkGo8zxv27A"
      }
    },
    {
      "cell_type": "markdown",
      "source": [
        "\n",
        "\n",
        "Let's explore the 3 rows of astronomical objects found within 0.1 degree of M31 in the given catalog and sort them by increasing distance. For this example, the VO table has several columns that might include:\n",
        "\n",
        "    _r = Angular distance (in degrees) between object and M31\n",
        "    USNO-A2.0 = Catalog ID of the object\n",
        "    RAJ2000 = Right ascension of the object (epoch=J2000)\n",
        "    DEJ2000 = Declination of the object (epoch=J2000)\n",
        "\n",
        "Note that column names, meanings, order, etc. might vary from catalog to catalog.\n"
      ],
      "metadata": {
        "id": "uz8GQdrKv3D0"
      }
    },
    {
      "cell_type": "code",
      "source": [
        "col_names = result.colnames\n",
        "print(col_names)\n",
        "\n"
      ],
      "metadata": {
        "id": "U9w-K6dQvxJP"
      },
      "execution_count": null,
      "outputs": []
    },
    {
      "cell_type": "code",
      "source": [
        "# Before sort\n",
        "print(result)\n",
        "\n"
      ],
      "metadata": {
        "id": "l2qwtdAvv7ly"
      },
      "execution_count": null,
      "outputs": []
    },
    {
      "cell_type": "code",
      "source": [
        "# After sort\n",
        "result.sort('_r')\n",
        "print(result)\n",
        "\n"
      ],
      "metadata": {
        "id": "PzdoKO1sv_C4"
      },
      "execution_count": null,
      "outputs": []
    },
    {
      "cell_type": "markdown",
      "source": [
        "Now let's do some astrophysics. Suppose we wanted to make a plot"
      ],
      "metadata": {
        "id": "dyudOnpcwJzl"
      }
    },
    {
      "cell_type": "markdown",
      "source": [
        "Let's look at stars in the  Perseus OB-1 double cluster. We're going to do a cone search of stars in the Gaia catalog ('Gaia DR2 5') and save to an ascii. Note that the search needs a name in the proper format so we're looking for NGC 869/884 which is one catalog name of the double cluster. It's pretty large but let's look within a tenth of a degree of the the cluster. To get the commands, use the examples we just did as a starting point. Also, print the column names as it will help you later."
      ],
      "metadata": {
        "id": "hWx7-f6_wKBV"
      }
    },
    {
      "cell_type": "markdown",
      "source": [
        "Let's save this as a csv."
      ],
      "metadata": {
        "id": "wu6Vdg3wztNm"
      }
    },
    {
      "cell_type": "code",
      "source": [
        "result.write('my_result.csv', format='ascii.csv', overwrite=True)"
      ],
      "metadata": {
        "id": "-z4F1Di-yx47"
      },
      "execution_count": null,
      "outputs": []
    },
    {
      "cell_type": "markdown",
      "source": [
        "Now let's read it. Note that if had a downloaded csv it might be a different command. See https://learn.astropy.org/tutorials/plot-catalog.html."
      ],
      "metadata": {
        "id": "jBgssmVzzwWp"
      }
    },
    {
      "cell_type": "code",
      "source": [
        "data = Table.read(\"my_result.csv\")"
      ],
      "metadata": {
        "id": "6EZBv9eyzZUV"
      },
      "execution_count": null,
      "outputs": []
    },
    {
      "cell_type": "markdown",
      "source": [
        "Let's see the parallax column."
      ],
      "metadata": {
        "id": "aAOqN5sX0mD8"
      }
    },
    {
      "cell_type": "code",
      "source": [
        "data['RPlx']"
      ],
      "metadata": {
        "id": "fnpOrEd4zehv"
      },
      "execution_count": null,
      "outputs": []
    },
    {
      "cell_type": "markdown",
      "source": [
        "Note that we need to get rid of the negative parallaxes which are not physical. In reality we should figure out why they're negative but for now we'll just skip them. Use the command below."
      ],
      "metadata": {
        "id": "WU_HOwI1iejQ"
      }
    },
    {
      "cell_type": "code",
      "source": [
        "data_clean=data[data[\"Plx\"]>=0]"
      ],
      "metadata": {
        "id": "podyCAyyiqzE"
      },
      "execution_count": null,
      "outputs": []
    },
    {
      "cell_type": "markdown",
      "source": [
        "Covert the parallax column to distance in parsecs and as an answer give the first three and last three distances in the table (that is distance of stars 0-2 and -3->-1). Note that the unit of parallax for Gaia is mas (milli-arcsecond)."
      ],
      "metadata": {
        "id": "zuSSrNvs0zPY"
      }
    },
    {
      "cell_type": "markdown",
      "source": [
        "Oh no! Not all the distances are the same as we'd expect for a star cluster (we'll talk about that!). I wonder if there's a difference between stars in the cluster and stars outside of it. Let's plot Right Ascension (RAJ2000) vs Declination (DEJ2000) and use distance as a color axis to see if we ca find where those stars are. I have the paritial code below but it needs you to have calculated distance. Note we have to use log10 because of the spread between distances."
      ],
      "metadata": {
        "id": "Ppv6KVM72BWA"
      }
    },
    {
      "cell_type": "code",
      "source": [
        "plt.scatter(data_clean[\"RAJ2000\"],data_clean[\"DEJ2000\"],c=np.log10(distance)) # plot J-K vs. J\n",
        "cbar=plt.colorbar()\n",
        "cbar.set_label('Log10(Distance)')\n",
        "plt.ylim(reversed(plt.ylim())) # flip the y-axis\n",
        "plt.xlabel(\"RA (deg)\", fontsize=20)\n",
        "plt.ylabel(\"DEC (deg)\", fontsize=20)\n",
        "\n"
      ],
      "metadata": {
        "id": "rBRggKjE1LuA"
      },
      "execution_count": null,
      "outputs": []
    },
    {
      "cell_type": "markdown",
      "source": [
        "Okay, so that didn't really help! Try plotting either proper motion (pmRA vs pmDE) or Radial Velocity (RV) vs distance and write about what you observe. It's a bit tricky to filter out, isn't it!\n",
        "\n",
        "After that, make a color-magnitude diagram by plotting BP-RP on X and absolute Gmag on Y. Let's keep distance as the color dimension.  Keep in mind you'll need to calculate the absolute Gmag using the equaions from class! We'll talk more about what this plot says later in class."
      ],
      "metadata": {
        "id": "gkP70zAP5uIa"
      }
    },
    {
      "cell_type": "markdown",
      "source": [
        "After this we'll do a few more plots. Let's plot Temperature (Teff) vs Luminisoity (Lum); Radius (Rad) vs Luminosity, and Color (BP-RP) vs Teff. Write a few sentences about what you observe."
      ],
      "metadata": {
        "id": "4fDDMXDEjcag"
      }
    }
  ]
}